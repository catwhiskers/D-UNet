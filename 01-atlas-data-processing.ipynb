{
 "cells": [
  {
   "cell_type": "markdown",
   "id": "99be5d85",
   "metadata": {},
   "source": [
    "### Anatomical Tracings of Lesions After Stroke (ATLAS) R1.1\n",
    "\n",
    "#### https://www.nature.com/articles/sdata201811\n",
    "\n",
    "* Naming Convention \n",
    "For the full dataset archived with ICPSR, the naming convention and description of the files in ATLAS R1.1 can be found in the following table. \n",
    "\n",
    "![naming convention and description](atlas_table.png)\n",
    "\n",
    "\n",
    "* Within the ATLAS R1.1 main folder, there is an excel file with the metadata for the entire dataset. \n",
    "* The data in this archive is in native space (i.e., original subject space; n=304). \n",
    "* Throughout the dataset, MRIs are named and sorted based on each cohort (c); each cohort is in the format of cXXXX where XXXX is the number that the cohort was assigned (e.g., c0001). There are 11 total cohorts.\n",
    "* Within each cohort folder are the individual subject(s) folders. Subject folders are named based on the cohort that they are in (cXXXX), the subject number that they were assigned (sXXXX) and the time point at which they were taken (tXX) (e.g., c0001s0004t01). For instance, participants with data taken two weeks apart would have two time points, where t01 is the first time point and t02 is the second. Every image starts with the subject identifier of cXXXXsXXXXtXX.\n"
   ]
  },
  {
   "cell_type": "code",
   "execution_count": null,
   "id": "a36a4bbc",
   "metadata": {},
   "outputs": [],
   "source": [
    "!pip install nibabel"
   ]
  },
  {
   "cell_type": "code",
   "execution_count": null,
   "id": "6f425bbe",
   "metadata": {},
   "outputs": [],
   "source": [
    "!aws s3 cp s3://medical-images-research-assets/atlas/ATLAS_R1.1.zip . \n",
    "!unzip ATLAS_R1.1.zip    "
   ]
  },
  {
   "cell_type": "code",
   "execution_count": null,
   "id": "e1a85b29",
   "metadata": {},
   "outputs": [],
   "source": [
    "!ls ATLAS_R1.1/Site2/031823/t01/"
   ]
  },
  {
   "cell_type": "code",
   "execution_count": null,
   "id": "ea1832cb",
   "metadata": {},
   "outputs": [],
   "source": [
    "import matplotlib\n",
    "from matplotlib import pylab as plt\n",
    "import nibabel as nib\n",
    "from nibabel.viewers import OrthoSlicer3D\n",
    " \n",
    "#031823_LesionSmooth_1_stx.nii.gz the 2nd large segment   \n",
    "#031823_LesionSmooth_stx.nii.gz segmentation marked\n",
    "#031823_t1w_deface_stx.nii.gz\n",
    "\n",
    "file = './ATLAS_R1.1/Site2/031823/t01/031823_t1w_deface_stx.nii.gz'\n",
    "img = nib.load(file)    \n",
    " \n",
    "print(img)\n",
    "print(img.header['db_name'])   \n",
    " \n",
    "width, height, queue = img.dataobj.shape\n",
    " \n",
    "OrthoSlicer3D(img.dataobj).show()\n",
    " \n",
    "num = 1\n",
    "for i in range(0, queue, 10):\n",
    "    img_arr = img.dataobj[:,:,i]\n",
    "    plt.subplot(5,4,num)\n",
    "    plt.imshow(img_arr)\n",
    "    num += 1\n",
    " \n",
    "plt.show()\n"
   ]
  },
  {
   "cell_type": "code",
   "execution_count": null,
   "id": "c334522d",
   "metadata": {},
   "outputs": [],
   "source": [
    "!pip install nilearn"
   ]
  },
  {
   "cell_type": "code",
   "execution_count": null,
   "id": "c0b878dc",
   "metadata": {},
   "outputs": [],
   "source": [
    "from nilearn import plotting\n",
    "plotting.plot_stat_map(file)\n"
   ]
  },
  {
   "cell_type": "code",
   "execution_count": null,
   "id": "3e2c4152",
   "metadata": {},
   "outputs": [],
   "source": []
  }
 ],
 "metadata": {
  "kernelspec": {
   "display_name": "conda_python3",
   "language": "python",
   "name": "conda_python3"
  },
  "language_info": {
   "codemirror_mode": {
    "name": "ipython",
    "version": 3
   },
   "file_extension": ".py",
   "mimetype": "text/x-python",
   "name": "python",
   "nbconvert_exporter": "python",
   "pygments_lexer": "ipython3",
   "version": "3.6.13"
  }
 },
 "nbformat": 4,
 "nbformat_minor": 5
}
