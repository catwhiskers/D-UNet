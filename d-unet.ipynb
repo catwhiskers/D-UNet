{
 "cells": [
  {
   "cell_type": "markdown",
   "metadata": {},
   "source": [
    "### Download Data \n",
    "\n",
    "* use coco dataset 2017 \n",
    "* to save time, use validation dataset as training set \n",
    "* make folder structure to fulfill the bring your container folder structure "
   ]
  },
  {
   "cell_type": "code",
   "execution_count": null,
   "metadata": {},
   "outputs": [],
   "source": [
    "%%bash \n",
    "cd ~/SageMaker\n",
    "mkdir input \n",
    "mkdir input/data \n",
    "cd input/data \n",
    "wget -O coco.zip https://tinyurl.com/yhtbxr6q \n",
    "unzip coco.zip "
   ]
  },
  {
   "cell_type": "markdown",
   "metadata": {},
   "source": [
    "### Build AlphaPose container \n",
    "\n",
    "* reference to [install instruction](https://github.com/catwhiskers/AlphaPose/blob/master/docs/INSTALL.md)\n",
    "* fix package dependency pycocotools==2.0.2a1\n",
    "* download pretrained models for inferences (yolov3 and fastpose)\n"
   ]
  },
  {
   "cell_type": "code",
   "execution_count": 2,
   "metadata": {
    "scrolled": false
   },
   "outputs": [
    {
     "name": "stdout",
     "output_type": "stream",
     "text": [
      "230755935769\n",
      "us-west-2\n",
      "Login Succeeded\n",
      "Login Succeeded\n",
      "1.15.5-gpu-py37-cu100-ubuntu18.04: Pulling from tensorflow-training\n",
      "Digest: sha256:b9bf85ad4689c7a728ba47866fdfe868ee7c7bcdb0417b3939df4cbc7053a5bc\n",
      "Status: Image is up to date for 763104351884.dkr.ecr.us-west-2.amazonaws.com/tensorflow-training:1.15.5-gpu-py37-cu100-ubuntu18.04\n",
      "763104351884.dkr.ecr.us-west-2.amazonaws.com/tensorflow-training:1.15.5-gpu-py37-cu100-ubuntu18.04\n",
      "Sending build context to Docker daemon  4.608kB\r",
      "\r\n",
      "Step 1/4 : ARG BASE_IMG=${BASE_IMG}\n",
      "Step 2/4 : FROM ${BASE_IMG}\n",
      " ---> 53fefee0e5ac\n",
      "Step 3/4 : RUN apt-get update -y && apt-get install ffmpeg libsm6 libxext6 -y\n",
      " ---> Using cache\n",
      " ---> 5242af8b2332\n",
      "Step 4/4 : RUN pip install nibabel opencv-python matplotlib keras==2.3.1\n",
      " ---> Using cache\n",
      " ---> a08698b5d41b\n",
      "Successfully built a08698b5d41b\n",
      "Successfully tagged dunet:latest\n",
      "The push refers to repository [230755935769.dkr.ecr.us-west-2.amazonaws.com/dunet]\n",
      "156f3779f1f9: Preparing\n",
      "c62bd00454db: Preparing\n",
      "85d8371500dd: Preparing\n",
      "9130585b9ca3: Preparing\n",
      "9036801cf049: Preparing\n",
      "8627600bce94: Preparing\n",
      "5bba5cc346e5: Preparing\n",
      "77be7d7269ec: Preparing\n",
      "f137fad8fbb1: Preparing\n",
      "83c387ae4c4e: Preparing\n",
      "ac05bdd75841: Preparing\n",
      "af9a2308e980: Preparing\n",
      "b838ff4fedb8: Preparing\n",
      "571d3b831ffa: Preparing\n",
      "50241b4da0f4: Preparing\n",
      "246b73d00913: Preparing\n",
      "ddf16e55359d: Preparing\n",
      "df5141e894ed: Preparing\n",
      "3c07e32d489c: Preparing\n",
      "74c5688b4170: Preparing\n",
      "06f163bbe728: Preparing\n",
      "aa28a46f23d8: Preparing\n",
      "232b9b55817e: Preparing\n",
      "07adad8f2cae: Preparing\n",
      "0dd1581dbc3c: Preparing\n",
      "837d6facb613: Preparing\n",
      "77be7d7269ec: Waiting\n",
      "246b73d00913: Waiting\n",
      "f137fad8fbb1: Waiting\n",
      "0dd1581dbc3c: Waiting\n",
      "ddf16e55359d: Waiting\n",
      "aa28a46f23d8: Waiting\n",
      "837d6facb613: Waiting\n",
      "83c387ae4c4e: Waiting\n",
      "8627600bce94: Waiting\n",
      "232b9b55817e: Waiting\n",
      "ac05bdd75841: Waiting\n",
      "07adad8f2cae: Waiting\n",
      "5bba5cc346e5: Waiting\n",
      "06f163bbe728: Waiting\n",
      "df5141e894ed: Waiting\n",
      "74c5688b4170: Waiting\n",
      "b838ff4fedb8: Waiting\n",
      "571d3b831ffa: Waiting\n",
      "50241b4da0f4: Waiting\n",
      "3c07e32d489c: Waiting\n",
      "85d8371500dd: Layer already exists\n",
      "156f3779f1f9: Layer already exists\n",
      "9130585b9ca3: Layer already exists\n",
      "c62bd00454db: Layer already exists\n",
      "9036801cf049: Layer already exists\n",
      "8627600bce94: Layer already exists\n",
      "5bba5cc346e5: Layer already exists\n",
      "83c387ae4c4e: Layer already exists\n",
      "f137fad8fbb1: Layer already exists\n",
      "77be7d7269ec: Layer already exists\n",
      "ac05bdd75841: Layer already exists\n",
      "af9a2308e980: Layer already exists\n",
      "b838ff4fedb8: Layer already exists\n",
      "571d3b831ffa: Layer already exists\n",
      "50241b4da0f4: Layer already exists\n",
      "ddf16e55359d: Layer already exists\n",
      "246b73d00913: Layer already exists\n",
      "df5141e894ed: Layer already exists\n",
      "3c07e32d489c: Layer already exists\n",
      "74c5688b4170: Layer already exists\n",
      "06f163bbe728: Layer already exists\n",
      "aa28a46f23d8: Layer already exists\n",
      "232b9b55817e: Layer already exists\n",
      "07adad8f2cae: Layer already exists\n",
      "0dd1581dbc3c: Layer already exists\n",
      "837d6facb613: Layer already exists\n",
      "latest: digest: sha256:48df230daf6de1c5715d226fcb008db5f8f758215e84036252b59a76917ae07c size: 5771\n"
     ]
    },
    {
     "name": "stderr",
     "output_type": "stream",
     "text": [
      "WARNING! Using --password via the CLI is insecure. Use --password-stdin.\n",
      "WARNING! Your password will be stored unencrypted in /home/ec2-user/.docker/config.json.\n",
      "Configure a credential helper to remove this warning. See\n",
      "https://docs.docker.com/engine/reference/commandline/login/#credentials-store\n",
      "\n",
      "WARNING! Using --password via the CLI is insecure. Use --password-stdin.\n",
      "WARNING! Your password will be stored unencrypted in /home/ec2-user/.docker/config.json.\n",
      "Configure a credential helper to remove this warning. See\n",
      "https://docs.docker.com/engine/reference/commandline/login/#credentials-store\n",
      "\n"
     ]
    }
   ],
   "source": [
    "%%bash \n",
    "cd container \n",
    "./build_and_push.sh "
   ]
  },
  {
   "cell_type": "code",
   "execution_count": 6,
   "metadata": {},
   "outputs": [
    {
     "data": {
      "text/plain": [
       "'230755935769.dkr.ecr.us-west-2.amazonaws.com/dunet'"
      ]
     },
     "execution_count": 6,
     "metadata": {},
     "output_type": "execute_result"
    }
   ],
   "source": [
    "import boto3 \n",
    "client = boto3.client(\"sts\")\n",
    "account_id = client.get_caller_identity()[\"Account\"]\n",
    "image_uri = \"{}.dkr.ecr.{}.amazonaws.com/dunet\".format(account_id, \"us-west-2\")\n",
    "image_uri"
   ]
  },
  {
   "cell_type": "markdown",
   "metadata": {},
   "source": [
    "### Do inference based on the docker image\n",
    "* reference to the [inference instruction](https://github.com/catwhiskers/AlphaPose)"
   ]
  },
  {
   "cell_type": "code",
   "execution_count": null,
   "metadata": {},
   "outputs": [],
   "source": [
    "!nvidia-docker run -it -v /home/ec2-user/SageMaker/:/opt/ml  --entrypoint='' 230755935769.dkr.ecr.us-west-2.amazonaws.com/alphapose-byos  python scripts/demo_inference.py --cfg configs/coco/resnet/256x192_res50_lr1e-3_1x.yaml --checkpoint pretrained_models/fast_res50_256x192.pth --indir examples/demo/ --outdir /opt/ml/demo --save_img"
   ]
  },
  {
   "cell_type": "markdown",
   "metadata": {},
   "source": [
    "### Training locally based on the docker image "
   ]
  },
  {
   "cell_type": "code",
   "execution_count": null,
   "metadata": {},
   "outputs": [],
   "source": [
    "!nvidia-docker run -it -v /home/ec2-user/SageMaker/:/opt/ml 230755935769.dkr.ecr.us-west-2.amazonaws.com/alphapose-byos "
   ]
  },
  {
   "cell_type": "markdown",
   "metadata": {},
   "source": [
    "### Use SageMaker Training Jobs "
   ]
  },
  {
   "cell_type": "code",
   "execution_count": null,
   "metadata": {},
   "outputs": [],
   "source": [
    "import sagemaker\n",
    "from sagemaker import get_execution_role\n",
    "role = get_execution_role()\n",
    "sagemaker_session = sagemaker.Session()\n",
    "bucket = sagemaker_session.default_bucket()\n",
    "prefix = \"alphapose\""
   ]
  },
  {
   "cell_type": "markdown",
   "metadata": {},
   "source": [
    "#### upload data to s3 "
   ]
  },
  {
   "cell_type": "code",
   "execution_count": null,
   "metadata": {},
   "outputs": [],
   "source": [
    "!cd ~/SageMaker/input/data/ && aws s3 cp --recursive coco s3://{bucket}/{prefix}/coco"
   ]
  },
  {
   "cell_type": "markdown",
   "metadata": {},
   "source": [
    "#### define s3 input and output paths "
   ]
  },
  {
   "cell_type": "code",
   "execution_count": null,
   "metadata": {},
   "outputs": [],
   "source": [
    "coco_data = \"s3://{}/{}/coco/\".format(bucket, prefix)\n",
    "outpath = \"s3://{}/{}/output/\".format(bucket, prefix)\n",
    "repositoryUri = \"230755935769.dkr.ecr.us-west-2.amazonaws.com/alphapose-byos\""
   ]
  },
  {
   "cell_type": "markdown",
   "metadata": {},
   "source": [
    "#### define job_name and  and hyperparameters"
   ]
  },
  {
   "cell_type": "code",
   "execution_count": null,
   "metadata": {},
   "outputs": [],
   "source": [
    "from datetime import datetime\n",
    "now = datetime.now()\n",
    "timestamp = datetime.timestamp(now)\n",
    "job_name = \"alphapose-{}\".format(str(int(timestamp))) \n",
    "job_name "
   ]
  },
  {
   "cell_type": "markdown",
   "metadata": {},
   "source": [
    "#### submit training job "
   ]
  },
  {
   "cell_type": "code",
   "execution_count": null,
   "metadata": {},
   "outputs": [],
   "source": [
    "coco_input = sagemaker.inputs.TrainingInput(coco_data)"
   ]
  },
  {
   "cell_type": "code",
   "execution_count": null,
   "metadata": {},
   "outputs": [],
   "source": [
    "from sagemaker.pytorch import PyTorch\n",
    "\n",
    "estimator = PyTorch(entry_point='scripts/train.py',\n",
    "                        role=role,\n",
    "                        image_uri=repositoryUri,\n",
    "                        source_dir='.',\n",
    "                        instance_count=1,\n",
    "                        instance_type='ml.p3.8xlarge',\n",
    "                        framework_version='1.6.0',\n",
    "                        py_version='py3',\n",
    "                        sagemaker_session=sagemaker_session,\n",
    "                        volume_size=100, \n",
    "                        debugger_hook_config=False\n",
    "                   )\n"
   ]
  },
  {
   "cell_type": "code",
   "execution_count": null,
   "metadata": {},
   "outputs": [],
   "source": [
    "estimator.fit(inputs={\"coco\":coco_input}, job_name=job_name)"
   ]
  },
  {
   "cell_type": "code",
   "execution_count": null,
   "metadata": {},
   "outputs": [],
   "source": []
  }
 ],
 "metadata": {
  "accelerator": "GPU",
  "colab": {
   "name": "“alphapose.ipynb”",
   "provenance": []
  },
  "kernelspec": {
   "display_name": "conda_pytorch_p36",
   "language": "python",
   "name": "conda_pytorch_p36"
  },
  "language_info": {
   "codemirror_mode": {
    "name": "ipython",
    "version": 3
   },
   "file_extension": ".py",
   "mimetype": "text/x-python",
   "name": "python",
   "nbconvert_exporter": "python",
   "pygments_lexer": "ipython3",
   "version": "3.6.13"
  }
 },
 "nbformat": 4,
 "nbformat_minor": 1
}
